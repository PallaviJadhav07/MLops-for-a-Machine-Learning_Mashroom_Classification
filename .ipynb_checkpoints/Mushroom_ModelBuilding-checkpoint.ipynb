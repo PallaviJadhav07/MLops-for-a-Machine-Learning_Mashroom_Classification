{
 "cells": [
  {
   "cell_type": "code",
   "execution_count": 1,
   "id": "ae452c45",
   "metadata": {},
   "outputs": [],
   "source": [
    "#libraries\n",
    "import pandas as pd # data processing\n",
    "import numpy as np # linear algebra\n",
    "\n",
    "#ploting libraries\n",
    "import seaborn as sns\n",
    "import matplotlib.pyplot as plt \n",
    "\n",
    "#feature engineering\n",
    "from sklearn import preprocessing\n",
    "\n",
    "# data transformation\n",
    "from sklearn.preprocessing import StandardScaler\n",
    "from sklearn.model_selection import train_test_split\n",
    "from sklearn.model_selection import KFold\n",
    "\n",
    "import warnings\n",
    "warnings.filterwarnings('ignore')\n",
    "\n",
    "# for Model Building\n",
    "from sklearn.linear_model import LogisticRegression\n",
    "from sklearn.tree import DecisionTreeClassifier\n",
    "from sklearn.ensemble import RandomForestClassifier\n",
    "from sklearn.ensemble import BaggingClassifier\n",
    "from sklearn.ensemble import AdaBoostClassifier\n",
    "from sklearn.ensemble import VotingClassifier\n",
    "from xgboost import XGBClassifier\n",
    "from sklearn.svm import SVC\n",
    "from sklearn.neighbors import KNeighborsClassifier\n",
    "from sklearn.naive_bayes import GaussianNB\n",
    "\n",
    "from sklearn.metrics import classification_report\n",
    "from sklearn.model_selection import cross_val_score\n",
    "from sklearn.metrics import confusion_matrix\n",
    "from sklearn.metrics import accuracy_score\n",
    "from sklearn.metrics import roc_auc_score\n",
    "from sklearn.metrics import roc_curve\n",
    "\n",
    "from sklearn import tree\n",
    "import pickle as pickle5\n"
   ]
  },
  {
   "cell_type": "code",
   "execution_count": 2,
   "id": "8657f5da",
   "metadata": {},
   "outputs": [],
   "source": [
    "# Loading data\n",
    "data=pd.read_csv('mushrooms.csv')"
   ]
  },
  {
   "cell_type": "code",
   "execution_count": 3,
   "id": "600faf7c",
   "metadata": {},
   "outputs": [
    {
     "data": {
      "text/plain": [
       "Index(['class', 'cap-shape', 'cap-surface', 'cap-color', 'bruises', 'odor',\n",
       "       'gill-attachment', 'gill-spacing', 'gill-size', 'gill-color',\n",
       "       'stalk-shape', 'stalk-root', 'stalk-surface-above-ring',\n",
       "       'stalk-surface-below-ring', 'stalk-color-above-ring',\n",
       "       'stalk-color-below-ring', 'veil-type', 'veil-color', 'ring-number',\n",
       "       'ring-type', 'spore-print-color', 'population', 'habitat'],\n",
       "      dtype='object')"
      ]
     },
     "execution_count": 3,
     "metadata": {},
     "output_type": "execute_result"
    }
   ],
   "source": [
    "data.columns"
   ]
  },
  {
   "cell_type": "code",
   "execution_count": 4,
   "id": "ce58660a",
   "metadata": {},
   "outputs": [],
   "source": [
    "# Droppping insignificant columns\n",
    "data=data.drop(['gill-attachment','ring-number','stalk-surface-below-ring','stalk-color-below-ring','veil-type','veil-color'],axis=1)"
   ]
  },
  {
   "cell_type": "code",
   "execution_count": 5,
   "id": "fae4093f",
   "metadata": {},
   "outputs": [
    {
     "data": {
      "text/html": [
       "<div>\n",
       "<style scoped>\n",
       "    .dataframe tbody tr th:only-of-type {\n",
       "        vertical-align: middle;\n",
       "    }\n",
       "\n",
       "    .dataframe tbody tr th {\n",
       "        vertical-align: top;\n",
       "    }\n",
       "\n",
       "    .dataframe thead th {\n",
       "        text-align: right;\n",
       "    }\n",
       "</style>\n",
       "<table border=\"1\" class=\"dataframe\">\n",
       "  <thead>\n",
       "    <tr style=\"text-align: right;\">\n",
       "      <th></th>\n",
       "      <th>class</th>\n",
       "      <th>cap_shape</th>\n",
       "      <th>cap_surface</th>\n",
       "      <th>cap_color</th>\n",
       "      <th>bruises</th>\n",
       "      <th>odor</th>\n",
       "      <th>gill_spacing</th>\n",
       "      <th>gill_size</th>\n",
       "      <th>gill_color</th>\n",
       "      <th>stalk_shape</th>\n",
       "      <th>stalk_root</th>\n",
       "      <th>stalk_surface_above_ring</th>\n",
       "      <th>stalk_color_above_ring</th>\n",
       "      <th>ring_type</th>\n",
       "      <th>spore_print_color</th>\n",
       "      <th>population</th>\n",
       "      <th>habitat</th>\n",
       "    </tr>\n",
       "  </thead>\n",
       "  <tbody>\n",
       "    <tr>\n",
       "      <th>0</th>\n",
       "      <td>p</td>\n",
       "      <td>x</td>\n",
       "      <td>s</td>\n",
       "      <td>n</td>\n",
       "      <td>t</td>\n",
       "      <td>p</td>\n",
       "      <td>c</td>\n",
       "      <td>n</td>\n",
       "      <td>k</td>\n",
       "      <td>e</td>\n",
       "      <td>e</td>\n",
       "      <td>s</td>\n",
       "      <td>w</td>\n",
       "      <td>p</td>\n",
       "      <td>k</td>\n",
       "      <td>s</td>\n",
       "      <td>u</td>\n",
       "    </tr>\n",
       "    <tr>\n",
       "      <th>1</th>\n",
       "      <td>e</td>\n",
       "      <td>x</td>\n",
       "      <td>s</td>\n",
       "      <td>y</td>\n",
       "      <td>t</td>\n",
       "      <td>a</td>\n",
       "      <td>c</td>\n",
       "      <td>b</td>\n",
       "      <td>k</td>\n",
       "      <td>e</td>\n",
       "      <td>c</td>\n",
       "      <td>s</td>\n",
       "      <td>w</td>\n",
       "      <td>p</td>\n",
       "      <td>n</td>\n",
       "      <td>n</td>\n",
       "      <td>g</td>\n",
       "    </tr>\n",
       "    <tr>\n",
       "      <th>2</th>\n",
       "      <td>e</td>\n",
       "      <td>b</td>\n",
       "      <td>s</td>\n",
       "      <td>w</td>\n",
       "      <td>t</td>\n",
       "      <td>l</td>\n",
       "      <td>c</td>\n",
       "      <td>b</td>\n",
       "      <td>n</td>\n",
       "      <td>e</td>\n",
       "      <td>c</td>\n",
       "      <td>s</td>\n",
       "      <td>w</td>\n",
       "      <td>p</td>\n",
       "      <td>n</td>\n",
       "      <td>n</td>\n",
       "      <td>m</td>\n",
       "    </tr>\n",
       "    <tr>\n",
       "      <th>3</th>\n",
       "      <td>p</td>\n",
       "      <td>x</td>\n",
       "      <td>y</td>\n",
       "      <td>w</td>\n",
       "      <td>t</td>\n",
       "      <td>p</td>\n",
       "      <td>c</td>\n",
       "      <td>n</td>\n",
       "      <td>n</td>\n",
       "      <td>e</td>\n",
       "      <td>e</td>\n",
       "      <td>s</td>\n",
       "      <td>w</td>\n",
       "      <td>p</td>\n",
       "      <td>k</td>\n",
       "      <td>s</td>\n",
       "      <td>u</td>\n",
       "    </tr>\n",
       "    <tr>\n",
       "      <th>4</th>\n",
       "      <td>e</td>\n",
       "      <td>x</td>\n",
       "      <td>s</td>\n",
       "      <td>g</td>\n",
       "      <td>f</td>\n",
       "      <td>n</td>\n",
       "      <td>w</td>\n",
       "      <td>b</td>\n",
       "      <td>k</td>\n",
       "      <td>t</td>\n",
       "      <td>e</td>\n",
       "      <td>s</td>\n",
       "      <td>w</td>\n",
       "      <td>e</td>\n",
       "      <td>n</td>\n",
       "      <td>a</td>\n",
       "      <td>g</td>\n",
       "    </tr>\n",
       "  </tbody>\n",
       "</table>\n",
       "</div>"
      ],
      "text/plain": [
       "  class cap_shape cap_surface cap_color bruises odor gill_spacing gill_size  \\\n",
       "0     p         x           s         n       t    p            c         n   \n",
       "1     e         x           s         y       t    a            c         b   \n",
       "2     e         b           s         w       t    l            c         b   \n",
       "3     p         x           y         w       t    p            c         n   \n",
       "4     e         x           s         g       f    n            w         b   \n",
       "\n",
       "  gill_color stalk_shape stalk_root stalk_surface_above_ring  \\\n",
       "0          k           e          e                        s   \n",
       "1          k           e          c                        s   \n",
       "2          n           e          c                        s   \n",
       "3          n           e          e                        s   \n",
       "4          k           t          e                        s   \n",
       "\n",
       "  stalk_color_above_ring ring_type spore_print_color population habitat  \n",
       "0                      w         p                 k          s       u  \n",
       "1                      w         p                 n          n       g  \n",
       "2                      w         p                 n          n       m  \n",
       "3                      w         p                 k          s       u  \n",
       "4                      w         e                 n          a       g  "
      ]
     },
     "execution_count": 5,
     "metadata": {},
     "output_type": "execute_result"
    }
   ],
   "source": [
    "# Renaming Column names\n",
    "data.rename(columns = {'cap-shape':'cap_shape','cap-surface':'cap_surface',\n",
    "                       'cap-color':'cap_color','gill-spacing':'gill_spacing',\n",
    "                       'gill-size':'gill_size','gill-color':'gill_color',\n",
    "                       'stalk-shape':'stalk_shape','stalk-root':'stalk_root',\n",
    "                       'stalk-surface-above-ring':'stalk_surface_above_ring',\n",
    "                       'stalk-color-above-ring':'stalk_color_above_ring',\n",
    "                       'ring-type':'ring_type','spore-print-color':'spore_print_color'}, inplace = True)\n",
    "data.head()"
   ]
  },
  {
   "cell_type": "code",
   "execution_count": 6,
   "id": "1c37e58a",
   "metadata": {},
   "outputs": [],
   "source": [
    "data['cap_shape']=np.where(data['cap_shape'].isin(['x','f','k']),\n",
    "                           data['cap_shape'].str.title(),\n",
    "                           'Other_shape')"
   ]
  },
  {
   "cell_type": "code",
   "execution_count": 7,
   "id": "c17f3270",
   "metadata": {},
   "outputs": [],
   "source": [
    "# in cap-surface contribution of 'g=grooves'is negligible,so we can directly drop it.\n",
    "data=data[data['cap_surface'] != 'g']"
   ]
  },
  {
   "cell_type": "code",
   "execution_count": 8,
   "id": "95546406",
   "metadata": {},
   "outputs": [],
   "source": [
    "data['cap_color']=np.where(data['cap_color'].isin(['n','y','w','g','e']),\n",
    "                           data['cap_color'].str.title(),\n",
    "                           'Other_color')"
   ]
  },
  {
   "cell_type": "code",
   "execution_count": 9,
   "id": "c9d7cdcf",
   "metadata": {},
   "outputs": [],
   "source": [
    "data['odor']=np.where(data['odor'].isin(['n','f','y','s','a','l']),\n",
    "                           data['odor'].str.title(),\n",
    "                           'Other')"
   ]
  },
  {
   "cell_type": "code",
   "execution_count": 10,
   "id": "7009a2b6",
   "metadata": {},
   "outputs": [],
   "source": [
    "data['gill_color']=np.where(data['gill_color'].isin(['k','n','g','p','w','h','u','b']),\n",
    "                           data['gill_color'].str.title(),\n",
    "                           'Other_color')"
   ]
  },
  {
   "cell_type": "code",
   "execution_count": 11,
   "id": "5e3e9e2c",
   "metadata": {},
   "outputs": [],
   "source": [
    "data['stalk_root']=np.where(data['stalk_root'].isin(['e','b']),\n",
    "                           data['stalk_root'].str.title(),\n",
    "                           'Other')"
   ]
  },
  {
   "cell_type": "code",
   "execution_count": 12,
   "id": "74dd8474",
   "metadata": {},
   "outputs": [],
   "source": [
    "data['stalk_surface_above_ring']=np.where(data['stalk_surface_above_ring'].isin(['s','k']),\n",
    "                           data['stalk_surface_above_ring'].str.title(),\n",
    "                           'Other')"
   ]
  },
  {
   "cell_type": "code",
   "execution_count": 13,
   "id": "f659a86b",
   "metadata": {},
   "outputs": [],
   "source": [
    "data['stalk_color_above_ring']=np.where(data['stalk_color_above_ring'].isin(['w','g','p','n','b']),\n",
    "                           data['stalk_color_above_ring'].str.title(),\n",
    "                           'Other')"
   ]
  },
  {
   "cell_type": "code",
   "execution_count": 14,
   "id": "1cc77442",
   "metadata": {},
   "outputs": [],
   "source": [
    "data['ring_type']=np.where(data['ring_type'].isin(['p','e','l']),\n",
    "                           data['ring_type'].str.title(),\n",
    "                           'Other')"
   ]
  },
  {
   "cell_type": "code",
   "execution_count": 15,
   "id": "86450682",
   "metadata": {},
   "outputs": [],
   "source": [
    "data['spore_print_color']=np.where(data['spore_print_color'].isin(['k','n','h','w']),\n",
    "                           data['spore_print_color'].str.title(),\n",
    "                           'Other')"
   ]
  },
  {
   "cell_type": "code",
   "execution_count": 16,
   "id": "dfcc7c31",
   "metadata": {},
   "outputs": [],
   "source": [
    "data['population']=np.where(data['population'].isin(['s','v','y']),\n",
    "                           data['population'].str.title(),\n",
    "                           'Other')"
   ]
  },
  {
   "cell_type": "code",
   "execution_count": 17,
   "id": "68ece88e",
   "metadata": {},
   "outputs": [],
   "source": [
    "data['habitat']=np.where(data['habitat'].isin(['g','d','p','l']),\n",
    "                           data['habitat'].str.title(),\n",
    "                           'Other')"
   ]
  },
  {
   "cell_type": "code",
   "execution_count": 19,
   "id": "178e0785",
   "metadata": {},
   "outputs": [
    {
     "data": {
      "text/plain": [
       "class                       2\n",
       "cap_shape                   4\n",
       "cap_surface                 3\n",
       "cap_color                   6\n",
       "bruises                     2\n",
       "odor                        7\n",
       "gill_spacing                2\n",
       "gill_size                   2\n",
       "gill_color                  9\n",
       "stalk_shape                 2\n",
       "stalk_root                  3\n",
       "stalk_surface_above_ring    3\n",
       "stalk_color_above_ring      6\n",
       "ring_type                   4\n",
       "spore_print_color           5\n",
       "population                  4\n",
       "habitat                     5\n",
       "dtype: int64"
      ]
     },
     "execution_count": 19,
     "metadata": {},
     "output_type": "execute_result"
    }
   ],
   "source": [
    "data.nunique()"
   ]
  },
  {
   "cell_type": "code",
   "execution_count": null,
   "id": "d5ddbdd4",
   "metadata": {},
   "outputs": [],
   "source": [
    "'n','f','y','s','a','l'"
   ]
  },
  {
   "cell_type": "code",
   "execution_count": 26,
   "id": "33a3477e",
   "metadata": {},
   "outputs": [],
   "source": [
    "data['cap_shape']=data['cap_shape'].replace({'X':'convex','F':'flat','K':'knobbed'})\n",
    "data['cap_surface']=data['cap_surface'].replace({'s':'smooth','y':'scaly','f':'fibrous'})\n",
    "data['cap_color']=data['cap_color'].replace({'N':'brown','Y':'yellow','W':'white','G':'grey','E':'red'})\n",
    "data['bruises']=data['bruises'].replace({'t':'bruises','f':'no_bruises'})\n",
    "data['odor']=data['odor'].replace({'N':'none','F':'foul','Y':'fishy','S':'spicy','A':'almond','L':'anise'})\n",
    "data['gill_spacing']=data['gill_spacing'].replace({'c':'close','w':'crowded'})\n",
    "\n",
    "\n",
    "data['gill_size']=data['gill_size'].replace({'n':'narrow','b':'broad'})\n",
    "\n",
    "data['gill_color']=data['gill_color'].replace({'K':'black','N':'brown','G':'grey','P':'pink','W':'white','H':'chocolate','U':'purple','B':'buff'})\n",
    "\n",
    "data['stalk_shape']=data['stalk_shape'].replace({'e':'enlarging','t':'tapering'})\n",
    "\n",
    "data['stalk_root']=data['stalk_root'].replace({'E':'equal','B':'bulbous'})\n",
    "\n",
    "data['stalk_surface_above_ring']=data['stalk_surface_above_ring'].replace({'S':'smoth','K':'silky'})\n",
    "\n",
    "data['stalk_color_above_ring']=data['stalk_color_above_ring'].replace({'W':'white','G':'grey','P':'pink','N':'brown','B':'buff'})\n",
    "\n",
    "data['ring_type']=data['ring_type'].replace({'P': 'pendant','E':'evanescent','L':'large'})\n",
    "\n",
    "data['spore_print_color']=data['spore_print_color'].replace({'K':'black','N':'brown','H':'chocolate','W':'white'})\n",
    "\n",
    "data['population']=data['population'].replace({'S':'scattered','V':'several','Y':'solitary'})\n",
    "\n",
    "data['habitat']=data['habitat'].replace({'G':'grasses','D':'woods','P':'paths','L':'leaves'})\n",
    "                            "
   ]
  },
  {
   "cell_type": "code",
   "execution_count": 48,
   "id": "2012c281",
   "metadata": {},
   "outputs": [],
   "source": [
    "# OHE on Features\n",
    "data_F=pd.get_dummies(data.iloc[:,1:])"
   ]
  },
  {
   "cell_type": "code",
   "execution_count": 49,
   "id": "3c5299b0",
   "metadata": {
    "scrolled": false
   },
   "outputs": [],
   "source": [
    "# Lebel encoding on target\n",
    "label_encoder=preprocessing.LabelEncoder()\n",
    "data['class']=label_encoder.fit_transform(data['class'])"
   ]
  },
  {
   "cell_type": "code",
   "execution_count": 50,
   "id": "5d0cd3a0",
   "metadata": {},
   "outputs": [],
   "source": [
    "# forming all encoded columns together\n",
    "data=pd.concat([data['class'],data_F],axis=1)"
   ]
  },
  {
   "cell_type": "code",
   "execution_count": 51,
   "id": "08c79959",
   "metadata": {},
   "outputs": [],
   "source": [
    "# Dividing data into Features(X) & Target(y)\n",
    "X = data.iloc[:,1:]"
   ]
  },
  {
   "cell_type": "code",
   "execution_count": 52,
   "id": "afdcba0e",
   "metadata": {},
   "outputs": [],
   "source": [
    "y=data['class']"
   ]
  },
  {
   "cell_type": "code",
   "execution_count": 53,
   "id": "cbe5c6a1",
   "metadata": {},
   "outputs": [],
   "source": [
    "# Train-Test Split \n",
    "#Train test split will be a 70:30 ratio respectively.\n",
    "X_train,X_test,y_train,y_test=train_test_split(X,y,test_size=0.3,random_state=42)"
   ]
  },
  {
   "cell_type": "code",
   "execution_count": 54,
   "id": "bb8fa8dd",
   "metadata": {},
   "outputs": [],
   "source": [
    "#SVM Clasification\n",
    "svm = SVC(C=1, kernel='linear')         #bydefault kernel=rbf      C=to control soft margin\n",
    "svm1=svm.fit(X_train,y_train)\n",
    "result_svm = svm1.score(X_test,y_test)"
   ]
  },
  {
   "cell_type": "code",
   "execution_count": 55,
   "id": "127215a4",
   "metadata": {},
   "outputs": [
    {
     "name": "stdout",
     "output_type": "stream",
     "text": [
      "0.9992\n"
     ]
    }
   ],
   "source": [
    "#Accuracy\n",
    "print(np.round(result_svm, 4))"
   ]
  },
  {
   "cell_type": "code",
   "execution_count": 56,
   "id": "e9340942",
   "metadata": {},
   "outputs": [],
   "source": [
    "filename = 'final_svm_model.pkl'\n",
    "pickle.dump(svm, open(filename,'wb'))"
   ]
  },
  {
   "cell_type": "code",
   "execution_count": 57,
   "id": "62a9cc9b",
   "metadata": {},
   "outputs": [],
   "source": [
    "pickled_model=pickle.load(open('final_svm_model.pkl','rb'))"
   ]
  },
  {
   "cell_type": "code",
   "execution_count": 58,
   "id": "d86352c0",
   "metadata": {},
   "outputs": [
    {
     "data": {
      "text/plain": [
       "array([1, 1, 0, ..., 0, 0, 0])"
      ]
     },
     "execution_count": 58,
     "metadata": {},
     "output_type": "execute_result"
    }
   ],
   "source": [
    "pickled_model.fit(X_train,y_train)\n",
    "pk=pickled_model.predict(X_test)\n",
    "pk"
   ]
  },
  {
   "cell_type": "code",
   "execution_count": null,
   "id": "bfb59cd6",
   "metadata": {},
   "outputs": [],
   "source": []
  }
 ],
 "metadata": {
  "kernelspec": {
   "display_name": "Python 3 (ipykernel)",
   "language": "python",
   "name": "python3"
  },
  "language_info": {
   "codemirror_mode": {
    "name": "ipython",
    "version": 3
   },
   "file_extension": ".py",
   "mimetype": "text/x-python",
   "name": "python",
   "nbconvert_exporter": "python",
   "pygments_lexer": "ipython3",
   "version": "3.9.13"
  },
  "toc": {
   "base_numbering": 1,
   "nav_menu": {},
   "number_sections": true,
   "sideBar": true,
   "skip_h1_title": false,
   "title_cell": "Table of Contents",
   "title_sidebar": "Contents",
   "toc_cell": false,
   "toc_position": {},
   "toc_section_display": true,
   "toc_window_display": false
  }
 },
 "nbformat": 4,
 "nbformat_minor": 5
}
