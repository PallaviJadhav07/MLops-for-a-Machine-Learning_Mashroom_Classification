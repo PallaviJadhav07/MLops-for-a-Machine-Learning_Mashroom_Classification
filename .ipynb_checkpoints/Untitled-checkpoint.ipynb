{
 "cells": [
  {
   "cell_type": "code",
   "execution_count": 22,
   "id": "c2c391e3",
   "metadata": {},
   "outputs": [],
   "source": [
    "import streamlit as st\n",
    "import pandas as pd\n",
    "import numpy as np\n",
    "import pickle\n",
    "\n",
    "# Load the pre-trained model\n",
    "model = pickle.load(open('final_svm_model.pkl', 'rb'))\n",
    "\n",
    "# Define the input features and their default values\n",
    "feature_names = ['cap-shape', 'cap-surface', 'cap-color', 'bruises', 'odor',\n",
    "                 'gill-spacing', 'gill-size', 'gill-color', 'stalk-shape', 'stalk-root', 'stalk-surface-above-ring',\n",
    "                'stalk-color-above-ring', \n",
    "                'ring-type', 'spore-print-color', 'population', 'habitat']\n",
    "default_features = ['x', 'y', 'n', 't', 'p', 'c', 'n', 'k','e', 'b', 's', 'w', 'p', 'k', 's', 'u']\n",
    "# Define the prediction function\n",
    "def predict_edibility(features):\n",
    "    features = np.array(features).reshape(1, -1)\n",
    "    prediction = model.predict(features)\n",
    "    if prediction[0] == 'p':\n",
    "        return \"Poisonous\"\n",
    "    else:\n",
    "        return \"Edible\"\n",
    "# Define the app\n",
    "def app():\n",
    "    # Set the app title\n",
    "    st.title(\"Mushroom Classification\")\n",
    "    \n",
    "    # Create the input form\n",
    "    input_features = []\n",
    "    for i in range(len(feature_names)):\n",
    "        input_features.append(st.sidebar.selectbox(feature_names[i], ['', 'b', 'c', 'x', 'k', 's'],\n",
    "                                                    index=['', 'b', 'c', 'x', 'k', 's'].index(default_features[i])))\n",
    "    \n",
    "    # Add a button to predict the edibility\n",
    "    if st.sidebar.button(\"Predict\"):\n",
    "        edibility = predict_edibility(input_features)\n",
    "        st.write(f\"The mushroom is {edibility}\")"
   ]
  },
  {
   "cell_type": "code",
   "execution_count": null,
   "id": "514e465b",
   "metadata": {},
   "outputs": [],
   "source": [
    "   "
   ]
  }
 ],
 "metadata": {
  "kernelspec": {
   "display_name": "Python 3 (ipykernel)",
   "language": "python",
   "name": "python3"
  },
  "language_info": {
   "codemirror_mode": {
    "name": "ipython",
    "version": 3
   },
   "file_extension": ".py",
   "mimetype": "text/x-python",
   "name": "python",
   "nbconvert_exporter": "python",
   "pygments_lexer": "ipython3",
   "version": "3.9.13"
  },
  "toc": {
   "base_numbering": 1,
   "nav_menu": {},
   "number_sections": true,
   "sideBar": true,
   "skip_h1_title": false,
   "title_cell": "Table of Contents",
   "title_sidebar": "Contents",
   "toc_cell": false,
   "toc_position": {},
   "toc_section_display": true,
   "toc_window_display": false
  }
 },
 "nbformat": 4,
 "nbformat_minor": 5
}
